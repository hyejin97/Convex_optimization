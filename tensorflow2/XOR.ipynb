{
  "nbformat": 4,
  "nbformat_minor": 0,
  "metadata": {
    "colab": {
      "name": "XOR.ipynb",
      "provenance": []
    },
    "kernelspec": {
      "name": "python3",
      "display_name": "Python 3"
    }
  },
  "cells": [
    {
      "cell_type": "markdown",
      "metadata": {
        "id": "dj7nPyqcNDIS"
      },
      "source": [
        "**XOR logic with two dense layers**"
      ]
    },
    {
      "cell_type": "code",
      "metadata": {
        "id": "YhBX7JFN5mh7"
      },
      "source": [
        "from __future__ import absolute_import, division, print_function, unicode_literals\n",
        "\n",
        "try:\n",
        "  %tensorflow_version 2.x\n",
        "except Exception:\n",
        "  pass\n",
        "\n",
        "import numpy as np\n",
        "import tensorflow as tf\n",
        "from tensorflow.keras.layers import Dense\n",
        "from tensorflow.keras.models import Sequential"
      ],
      "execution_count": 3,
      "outputs": []
    },
    {
      "cell_type": "code",
      "metadata": {
        "id": "ItpGElFi-RWc"
      },
      "source": [
        "X = np.array([[0.,0.],[0.,1.],[1.,0.],[1.,1.]])\n",
        "y = np.array([0.,1.,1.,0.])"
      ],
      "execution_count": 4,
      "outputs": []
    },
    {
      "cell_type": "code",
      "metadata": {
        "id": "er2Y8PcNGGxT"
      },
      "source": [
        "#xor - two dense layers\n",
        "model = Sequential()\n",
        "model.add(Dense(units=2, activation='sigmoid', input_dim=2))\n",
        "model.add(Dense(units=1, activation='sigmoid'))\n"
      ],
      "execution_count": 5,
      "outputs": []
    },
    {
      "cell_type": "code",
      "metadata": {
        "id": "UYeq2jANGzSD"
      },
      "source": [
        "model.compile(loss='binary_crossentropy', optimizer='sgd', metrics=['accuracy'])"
      ],
      "execution_count": 6,
      "outputs": []
    },
    {
      "cell_type": "code",
      "metadata": {
        "colab": {
          "base_uri": "https://localhost:8080/"
        },
        "id": "Vzes9VUUGl6-",
        "outputId": "cec031bd-99b9-43c6-ac9f-659a1f9070b9"
      },
      "source": [
        "print(model.summary())"
      ],
      "execution_count": 7,
      "outputs": [
        {
          "output_type": "stream",
          "text": [
            "Model: \"sequential\"\n",
            "_________________________________________________________________\n",
            "Layer (type)                 Output Shape              Param #   \n",
            "=================================================================\n",
            "dense (Dense)                (None, 2)                 6         \n",
            "_________________________________________________________________\n",
            "dense_1 (Dense)              (None, 1)                 3         \n",
            "=================================================================\n",
            "Total params: 9\n",
            "Trainable params: 9\n",
            "Non-trainable params: 0\n",
            "_________________________________________________________________\n",
            "None\n"
          ],
          "name": "stdout"
        }
      ]
    },
    {
      "cell_type": "code",
      "metadata": {
        "colab": {
          "base_uri": "https://localhost:8080/"
        },
        "id": "cd6IZ-6jHnnm",
        "outputId": "e4bf4fac-e81c-4e29-b538-65abb6ea4a39"
      },
      "source": [
        "model.fit(X, y, epochs=50000, batch_size=4, verbose=0)"
      ],
      "execution_count": 8,
      "outputs": [
        {
          "output_type": "execute_result",
          "data": {
            "text/plain": [
              "<tensorflow.python.keras.callbacks.History at 0x7f7703fd6cf8>"
            ]
          },
          "metadata": {
            "tags": []
          },
          "execution_count": 8
        }
      ]
    },
    {
      "cell_type": "code",
      "metadata": {
        "colab": {
          "base_uri": "https://localhost:8080/"
        },
        "id": "l__A9aqQIifJ",
        "outputId": "9c4c42b6-96ad-4417-bc3e-5bb0778a7cb4"
      },
      "source": [
        "print(\"first layer weights: \", model.layers[0].get_weights()[0])\n",
        "print(\"second layer weights: \", model.layers[1].get_weights()[0])\n",
        "#row - number of inputs, col - number of units"
      ],
      "execution_count": 9,
      "outputs": [
        {
          "output_type": "stream",
          "text": [
            "first layer weights:  [[ 5.140978   5.635107 ]\n",
            " [-5.3938813 -5.4203763]]\n",
            "second layer weights:  [[ 8.257314]\n",
            " [-7.68956 ]]\n"
          ],
          "name": "stdout"
        }
      ]
    },
    {
      "cell_type": "markdown",
      "metadata": {
        "id": "cH_4E53RNSbH"
      },
      "source": [
        "**implementing the XOR TF dense model**"
      ]
    },
    {
      "cell_type": "code",
      "metadata": {
        "id": "QvHtiOq6Mpkm"
      },
      "source": [
        "import math\n",
        "\n",
        "def sigmoid(x):\n",
        "  return 1 / (1 + math.exp(-x))"
      ],
      "execution_count": 10,
      "outputs": []
    },
    {
      "cell_type": "code",
      "metadata": {
        "id": "cbzW-zyxOyHy"
      },
      "source": [
        "def get_output(x):\n",
        "  layer0 = model.layers[0] #result from upper XOR training\n",
        "  layer0_w, layer0_b = layer0.get_weights()\n",
        "  \n",
        "  layer0_unit0_w = np.transpose(layer0_w)[0]\n",
        "  layer0_unit0_b = layer0_b[0]\n",
        "  layer0_unit0_output = sigmoid(np.dot(x, layer0_unit0_w) + layer0_unit0_b)\n",
        "  \n",
        "  layer0_unit1_w = np.transpose(layer0_w)[1]\n",
        "  layer0_unit1_b = layer0_b[1]\n",
        "  layer0_unit1_output = sigmoid(np.dot(x, layer0_unit1_w) + layer0_unit1_b)\n",
        "\n",
        "  layer1 = model.layers[1]\n",
        "  layer1_w, layer1_b = layer1.get_weights()\n",
        "  layer1_output = sigmoid(np.dot([layer0_unit0_output, layer0_unit1_output], layer1_w) + layer1_b)\n",
        "  \n",
        "  print(layer1_output)"
      ],
      "execution_count": 20,
      "outputs": []
    },
    {
      "cell_type": "code",
      "metadata": {
        "colab": {
          "base_uri": "https://localhost:8080/"
        },
        "id": "ozcJDjlTYLy1",
        "outputId": "6061800f-aaa2-46bf-cb45-c593686c2964"
      },
      "source": [
        "get_output([0,0])"
      ],
      "execution_count": 21,
      "outputs": [
        {
          "output_type": "stream",
          "text": [
            "0.037109348062113065\n"
          ],
          "name": "stdout"
        }
      ]
    },
    {
      "cell_type": "code",
      "metadata": {
        "colab": {
          "base_uri": "https://localhost:8080/"
        },
        "id": "T2bc-vJJYiYj",
        "outputId": "566b9f4f-364c-4aa5-935f-782e76bbb9a3"
      },
      "source": [
        "get_output([0,1])"
      ],
      "execution_count": 22,
      "outputs": [
        {
          "output_type": "stream",
          "text": [
            "0.9524261904373269\n"
          ],
          "name": "stdout"
        }
      ]
    },
    {
      "cell_type": "code",
      "metadata": {
        "colab": {
          "base_uri": "https://localhost:8080/"
        },
        "id": "VepT9GzfYv-9",
        "outputId": "45fb927c-9ba9-4b0e-e06e-982fe1428518"
      },
      "source": [
        "get_output([1,0])"
      ],
      "execution_count": 23,
      "outputs": [
        {
          "output_type": "stream",
          "text": [
            "0.9659469680204732\n"
          ],
          "name": "stdout"
        }
      ]
    },
    {
      "cell_type": "code",
      "metadata": {
        "colab": {
          "base_uri": "https://localhost:8080/"
        },
        "id": "c-4_g00EYx7w",
        "outputId": "aeb687ba-902d-4cec-f2c4-fd8f181c6665"
      },
      "source": [
        "get_output([1,1])"
      ],
      "execution_count": 24,
      "outputs": [
        {
          "output_type": "stream",
          "text": [
            "0.0309718193693648\n"
          ],
          "name": "stdout"
        }
      ]
    },
    {
      "cell_type": "code",
      "metadata": {
        "id": "Jloo2EkVYzgi"
      },
      "source": [
        ""
      ],
      "execution_count": null,
      "outputs": []
    }
  ]
}